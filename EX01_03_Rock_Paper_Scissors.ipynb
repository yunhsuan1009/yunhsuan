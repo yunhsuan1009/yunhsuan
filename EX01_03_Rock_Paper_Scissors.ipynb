{
  "nbformat": 4,
  "nbformat_minor": 0,
  "metadata": {
    "colab": {
      "provenance": [],
      "authorship_tag": "ABX9TyN8569cewwberRNh94/gLl2",
      "include_colab_link": true
    },
    "kernelspec": {
      "name": "python3",
      "display_name": "Python 3"
    },
    "language_info": {
      "name": "python"
    }
  },
  "cells": [
    {
      "cell_type": "markdown",
      "metadata": {
        "id": "view-in-github",
        "colab_type": "text"
      },
      "source": [
        "<a href=\"https://colab.research.google.com/github/yunhsuan1009/yunhsuan/blob/main/EX01_03_Rock_Paper_Scissors.ipynb\" target=\"_parent\"><img src=\"https://colab.research.google.com/assets/colab-badge.svg\" alt=\"Open In Colab\"/></a>"
      ]
    },
    {
      "cell_type": "code",
      "execution_count": null,
      "metadata": {
        "id": "ghdAhLSQ4rq4"
      },
      "outputs": [],
      "source": []
    },
    {
      "cell_type": "markdown",
      "source": [
        "EX01-03 Rock-Paper-Scissors\n",
        "\n",
        "\n"
      ],
      "metadata": {
        "id": "P2-GIyKk5PXS"
      }
    },
    {
      "cell_type": "code",
      "source": [
        "import random\n",
        "\n",
        "play = int(input())\n",
        "cmp = random.choice( [0,2,5])\n",
        "print('computer:',cmp)\n",
        "if play == cmp:\n",
        "  print('draw')\n",
        "elif (play == 0 and cmp == 2) or (play == 2 and cmp == 5) or (play == 5 and cmp == 0):\n",
        "  print('win')\n",
        "else:\n",
        "  print('lose')\n",
        ""
      ],
      "metadata": {
        "colab": {
          "base_uri": "https://localhost:8080/"
        },
        "id": "KpZxgPW95REv",
        "outputId": "62553cb5-47aa-433e-cc36-5f180717cdef"
      },
      "execution_count": 1,
      "outputs": [
        {
          "output_type": "stream",
          "name": "stdout",
          "text": [
            "0\n",
            "computer: 5\n",
            "lose\n"
          ]
        }
      ]
    }
  ]
}