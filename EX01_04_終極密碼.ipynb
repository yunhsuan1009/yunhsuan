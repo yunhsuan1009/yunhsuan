{
  "nbformat": 4,
  "nbformat_minor": 0,
  "metadata": {
    "colab": {
      "provenance": [],
      "authorship_tag": "ABX9TyPbKN8mYP+BIc6bqY4DKJFB",
      "include_colab_link": true
    },
    "kernelspec": {
      "name": "python3",
      "display_name": "Python 3"
    },
    "language_info": {
      "name": "python"
    }
  },
  "cells": [
    {
      "cell_type": "markdown",
      "metadata": {
        "id": "view-in-github",
        "colab_type": "text"
      },
      "source": [
        "<a href=\"https://colab.research.google.com/github/yunhsuan1009/yunhsuan/blob/main/EX01_04_%E7%B5%82%E6%A5%B5%E5%AF%86%E7%A2%BC.ipynb\" target=\"_parent\"><img src=\"https://colab.research.google.com/assets/colab-badge.svg\" alt=\"Open In Colab\"/></a>"
      ]
    },
    {
      "cell_type": "code",
      "execution_count": null,
      "metadata": {
        "id": "aAfivEcvyQQg"
      },
      "outputs": [],
      "source": []
    },
    {
      "cell_type": "markdown",
      "source": [
        "EX01-04 終極密碼\n"
      ],
      "metadata": {
        "id": "0JmgQ2Qn2njJ"
      }
    },
    {
      "cell_type": "code",
      "source": [
        "import random\n",
        "bomb = random.randint(1,99)\n",
        "\n",
        "If = 0\n",
        "rt = 100\n",
        "\n",
        "while True:\n",
        "  print(If, '-',rt)\n",
        "  gu = int(input('猜:'))\n",
        "  if gu <= If or gu >= rt:\n",
        "    print('超出範圍')\n",
        "  elif gu > bomb:\n",
        "    rt = gu\n",
        "  elif gu < bomb:\n",
        "    If = gu\n",
        "  else:\n",
        "    print('答對了')\n",
        "    break\n",
        "\n",
        "\n",
        "\n",
        "\n",
        "\n",
        "\n"
      ],
      "metadata": {
        "colab": {
          "base_uri": "https://localhost:8080/"
        },
        "id": "ovCwnW_p2o3l",
        "outputId": "58dcd730-37eb-4683-b72d-c99caf58f2a8"
      },
      "execution_count": 2,
      "outputs": [
        {
          "output_type": "stream",
          "name": "stdout",
          "text": [
            "0 - 100\n",
            "猜:66\n",
            "0 - 66\n",
            "猜:44\n",
            "0 - 44\n",
            "猜:22\n",
            "0 - 22\n",
            "猜:11\n",
            "11 - 22\n",
            "猜:14\n",
            "14 - 22\n",
            "猜:17\n",
            "答對了\n"
          ]
        }
      ]
    }
  ]
}