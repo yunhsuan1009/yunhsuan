{
  "nbformat": 4,
  "nbformat_minor": 0,
  "metadata": {
    "colab": {
      "provenance": [],
      "authorship_tag": "ABX9TyPNa+esMAaPtti8ctqAf2DH",
      "include_colab_link": true
    },
    "kernelspec": {
      "name": "python3",
      "display_name": "Python 3"
    },
    "language_info": {
      "name": "python"
    }
  },
  "cells": [
    {
      "cell_type": "markdown",
      "metadata": {
        "id": "view-in-github",
        "colab_type": "text"
      },
      "source": [
        "<a href=\"https://colab.research.google.com/github/yunhsuan1009/yunhsuan/blob/main/c0218.ipynb\" target=\"_parent\"><img src=\"https://colab.research.google.com/assets/colab-badge.svg\" alt=\"Open In Colab\"/></a>"
      ]
    },
    {
      "cell_type": "code",
      "execution_count": null,
      "metadata": {
        "id": "rqrdMO653PdE"
      },
      "outputs": [],
      "source": []
    },
    {
      "cell_type": "markdown",
      "source": [
        "\n",
        "\n",
        "> 加入區塊引述符號\n",
        "\n"
      ],
      "metadata": {
        "id": "8UF-JFrNFMrV"
      }
    },
    {
      "cell_type": "markdown",
      "source": [],
      "metadata": {
        "id": "YcQlCAU0FO_k"
      }
    },
    {
      "cell_type": "markdown",
      "source": [
        "# application programming\n",
        "\n",
        "- 00 intrto\n",
        "- 01 Python Overview\n",
        "  - EX01-01 加法器\n",
        "  "
      ],
      "metadata": {
        "id": "VOlqXbvKFS8s"
      }
    },
    {
      "cell_type": "code",
      "source": [],
      "metadata": {
        "id": "5IkYnh2SEPIi"
      },
      "execution_count": null,
      "outputs": []
    }
  ]
}