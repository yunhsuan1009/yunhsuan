{
  "nbformat": 4,
  "nbformat_minor": 0,
  "metadata": {
    "colab": {
      "provenance": [],
      "authorship_tag": "ABX9TyPqU7tze5pVeuzCs13xkwS3",
      "include_colab_link": true
    },
    "kernelspec": {
      "name": "python3",
      "display_name": "Python 3"
    },
    "language_info": {
      "name": "python"
    }
  },
  "cells": [
    {
      "cell_type": "markdown",
      "metadata": {
        "id": "view-in-github",
        "colab_type": "text"
      },
      "source": [
        "<a href=\"https://colab.research.google.com/github/yunhsuan1009/yunhsuan/blob/main/EX02_05_PTT_Gossiping.ipynb\" target=\"_parent\"><img src=\"https://colab.research.google.com/assets/colab-badge.svg\" alt=\"Open In Colab\"/></a>"
      ]
    },
    {
      "cell_type": "code",
      "execution_count": null,
      "metadata": {
        "colab": {
          "base_uri": "https://localhost:8080/"
        },
        "id": "pCajdBs0-UCw",
        "outputId": "641bc1e2-689d-4b7b-c593-ce08c9c4d0f0"
      },
      "outputs": [
        {
          "output_type": "execute_result",
          "data": {
            "text/plain": [
              "200"
            ]
          },
          "metadata": {},
          "execution_count": 1
        }
      ],
      "source": [
        "import requests\n",
        "from bs4 import BeautifulSoup\n",
        "\n",
        "url= 'https://www.ptt.cc/bbs/Movie/index.html'\n",
        "response = requests.get(url)\n",
        "response.status_code"
      ]
    },
    {
      "cell_type": "code",
      "source": [
        "soup = BeautifulSoup(response.text, 'html.parser')\n",
        "soup.title"
      ],
      "metadata": {
        "colab": {
          "base_uri": "https://localhost:8080/"
        },
        "id": "JzteiomVANVt",
        "outputId": "9b50f789-6f20-448f-9045-bc16a655bebd"
      },
      "execution_count": null,
      "outputs": [
        {
          "output_type": "execute_result",
          "data": {
            "text/plain": [
              "<title>看板 movie 文章列表 - 批踢踢實業坊</title>"
            ]
          },
          "metadata": {},
          "execution_count": 2
        }
      ]
    },
    {
      "cell_type": "code",
      "source": [
        "for artl in soup.find_all('div', class_='r-ent'):\n",
        "    title_div = artl.find('div', class_='title')\n",
        "    a_tag = title_div.a  # 可能是 None\n",
        "    ttle = title_div.text.strip()\n",
        "\n",
        "    if a_tag:\n",
        "        href = 'https://www.ptt.cc' + a_tag.get('href')\n",
        "    else:\n",
        "        href = '(無連結)'\n",
        "\n",
        "    date = artl.find('div', class_='date').text.strip()\n",
        "    print(date, ttle, href)"
      ],
      "metadata": {
        "colab": {
          "base_uri": "https://localhost:8080/"
        },
        "id": "ZEAFV_rLQ17Z",
        "outputId": "28e3511c-fca4-4f7a-aeea-25bfceb2108c"
      },
      "execution_count": null,
      "outputs": [
        {
          "output_type": "stream",
          "name": "stdout",
          "text": [
            "6/15 (本文已被刪除) [AAjeanAA] (無連結)\n",
            "6/15 [情報] 6/15 當週10部新片預告+Youtube觀看排行 https://www.ptt.cc/bbs/movie/M.1750000649.A.643.html\n",
            "9/04 [公告] 電影板板規 2022/12/5 https://www.ptt.cc/bbs/movie/M.1630756788.A.1FE.html\n",
            "9/15 [公告] 禁政治版規 及 投票結果 https://www.ptt.cc/bbs/movie/M.1694784041.A.89F.html\n"
          ]
        }
      ]
    },
    {
      "cell_type": "code",
      "source": [
        "'https://www.ptt.cc'+ soup.find_all('a', class_='btn wide')[1].get('href')"
      ],
      "metadata": {
        "colab": {
          "base_uri": "https://localhost:8080/",
          "height": 35
        },
        "id": "fusOSu3mK-no",
        "outputId": "eed934ee-a20c-4ee6-b403-f374ef120836"
      },
      "execution_count": null,
      "outputs": [
        {
          "output_type": "execute_result",
          "data": {
            "text/plain": [
              "'https://www.ptt.cc/bbs/movie/index10635.html'"
            ],
            "application/vnd.google.colaboratory.intrinsic+json": {
              "type": "string"
            }
          },
          "metadata": {},
          "execution_count": 5
        }
      ]
    },
    {
      "cell_type": "code",
      "source": [
        "def get_articles(url):\n",
        "    response = requests.get(url)\n",
        "    soup = BeautifulSoup(response.text, 'html.parser')\n",
        "    for artl in soup.find_all('div', class_='r-ent'):\n",
        "      if artl.find('div', class_='title').a:\n",
        "        ttle = artl.find('div', class_='title').a.text\n",
        "        href = 'https://www.ptt.cc' + artl.find('div', class_='title').a.get('href')\n",
        "      else:\n",
        "        ttle = artl.find('div', class_='title').text\n",
        "        href = ''\n",
        "      date = artl.find('div', class_='date').text\n",
        "      print(date, ttle, href)\n",
        "    url = 'https://www.ptt.cc' + soup.find_all('a', class_='btn wide')[1].get('href')\n",
        "    return url\n",
        "\n",
        "url = 'https://www.ptt.cc/bbs/Movie/index.html'\n",
        "for i in range(5):\n",
        "  url = get_articles(url)"
      ],
      "metadata": {
        "colab": {
          "base_uri": "https://localhost:8080/"
        },
        "id": "2XWgkjsWMOIk",
        "outputId": "22f9dcd1-6f5a-4cd1-82f5-33c8dc1ae2d9"
      },
      "execution_count": null,
      "outputs": [
        {
          "output_type": "stream",
          "name": "stdout",
          "text": [
            " 6/15 \n",
            "\t\t\t\n",
            "\t\t\t\t(本文已被刪除) [AAjeanAA]\n",
            "\t\t\t\n",
            "\t\t\t \n",
            " 6/15 [情報] 6/15 當週10部新片預告+Youtube觀看排行 https://www.ptt.cc/bbs/movie/M.1750000649.A.643.html\n",
            " 9/04 [公告] 電影板板規 2022/12/5 https://www.ptt.cc/bbs/movie/M.1630756788.A.1FE.html\n",
            " 9/15 [公告] 禁政治版規 及 投票結果 https://www.ptt.cc/bbs/movie/M.1694784041.A.89F.html\n",
            " 6/14 [有雷但應該不太影響吧] 看不見的國家  https://www.ptt.cc/bbs/movie/M.1749912047.A.1D0.html\n",
            " 6/14 [好雷] 克里斯伊凡「天作之合」:愛不是變形金剛 https://www.ptt.cc/bbs/movie/M.1749913022.A.65A.html\n",
            " 6/14 [無雷] 席妮史威尼不賣色就沒了?回聲谷爛番茄50% https://www.ptt.cc/bbs/movie/M.1749915355.A.168.html\n",
            " 6/15 【情報】《寧化飛灰》6/16 光點華山上映 https://www.ptt.cc/bbs/movie/M.1749917120.A.7C9.html\n",
            " 6/15 [好雷] 《我最喜歡的蛋糕》- 幸福的「往生」  https://www.ptt.cc/bbs/movie/M.1749917224.A.EDE.html\n",
            " 6/15 [普雷] 山忌 黃衣小飛俠 https://www.ptt.cc/bbs/movie/M.1749919151.A.4CC.html\n",
            " 6/15 [請益] 角頭宇宙地盤分析 https://www.ptt.cc/bbs/movie/M.1749923579.A.12D.html\n",
            " 6/15 [超好無雷] 奧蘭多布魯「笑闖黑幫」爛番茄93% https://www.ptt.cc/bbs/movie/M.1749928523.A.F22.html\n",
            " 6/15 [問片] 殺戮世代，至少十年以上現代戰爭片 https://www.ptt.cc/bbs/movie/M.1749949094.A.907.html\n",
            " 6/15 \n",
            "\t\t\t\n",
            "\t\t\t\t(本文已被刪除) [Articuno]\n",
            "\t\t\t\n",
            "\t\t\t \n",
            " 6/15 [討論] 終極追殺令的老闆 https://www.ptt.cc/bbs/movie/M.1749967722.A.287.html\n",
            " 6/15 [新聞] 哆啦A夢現蹤台北12區！最新電影《大雄的 https://www.ptt.cc/bbs/movie/M.1749968554.A.64E.html\n",
            " 6/15 [討論] 《心之谷》跟《咒術迴戰0》哪個純？ XD https://www.ptt.cc/bbs/movie/M.1749969566.A.8ED.html\n",
            " 6/15 [問片] 女生被性侵後展開報復行動 https://www.ptt.cc/bbs/movie/M.1749981301.A.80C.html\n",
            " 6/15 [討論] Gary Oldman被封為騎士 https://www.ptt.cc/bbs/movie/M.1749984253.A.5C5.html\n",
            " 6/15 [LIVE] AXN 21:00 狂人法則 https://www.ptt.cc/bbs/movie/M.1749988960.A.5EE.html\n",
            " 6/15 [討論] 為什麽台灣演員有很用力唸台詞的感覺 https://www.ptt.cc/bbs/movie/M.1749990477.A.839.html\n",
            " 6/15 [新聞] 昆汀寫《從前有個好萊塢2》劇本獲巨額報 https://www.ptt.cc/bbs/movie/M.1749991120.A.FAF.html\n",
            " 6/15 [討論] 蓋瑞歐德曼的everyone原本是鬧著玩的 https://www.ptt.cc/bbs/movie/M.1749991254.A.727.html\n",
            " 6/15 [討論] 現在ACG已經統治好萊塢了吧? https://www.ptt.cc/bbs/movie/M.1749992404.A.59F.html\n",
            " 6/13 [新聞] 【全知讀者視角】七大主演分享演出心聲 https://www.ptt.cc/bbs/movie/M.1749815682.A.AA2.html\n",
            " 6/13 [討論] 詹姆斯岡恩真的有自我置入「超人」電影 https://www.ptt.cc/bbs/movie/M.1749817916.A.91C.html\n",
            " 6/13 [請益] 馴龍高手要看IMAX3D還是4DX3D https://www.ptt.cc/bbs/movie/M.1749823115.A.0CC.html\n",
            " 6/13 [問片] 想問一部穿越平行時空的電影 https://www.ptt.cc/bbs/movie/M.1749824941.A.FB9.html\n",
            " 6/13 [問片]Outter Limits S2E7外星人化身美女,時間久了會發臭味 https://www.ptt.cc/bbs/movie/M.1749827303.A.871.html\n",
            " 6/13 [新聞] 星戰惡搞片《太空砲彈》預告 https://www.ptt.cc/bbs/movie/M.1749827798.A.C00.html\n",
            " 6/13 [新聞]《玩具總動員5》反派「平板電腦」造型曝！ https://www.ptt.cc/bbs/movie/M.1749828607.A.8C4.html\n",
            " 6/13 [新聞]《雷霆特攻隊》慘賠數千萬美元！漫威電影 https://www.ptt.cc/bbs/movie/M.1749828683.A.5F2.html\n",
            " 6/14 [新聞] 達珂塔強生：片商只會「重拍同樣的東西」 https://www.ptt.cc/bbs/movie/M.1749835635.A.42E.html\n",
            " 6/14 [好雷] 紀錄片-造山者 A chip Odyssey https://www.ptt.cc/bbs/movie/M.1749842907.A.314.html\n",
            " 6/14 [新聞] 「蜘蛛夫人」獲金酸莓獎 珊卓布拉克邀聚餐 https://www.ptt.cc/bbs/movie/M.1749872764.A.CD2.html\n",
            " 6/14 [新聞] 《名偵探柯南》《排球少年！！》大放異彩 https://www.ptt.cc/bbs/movie/M.1749877109.A.C81.html\n",
            " 6/14 [新聞] 基努李維完美主義對自己狠　《捍衛任務》 https://www.ptt.cc/bbs/movie/M.1749881905.A.21D.html\n",
            " 6/14 [問片] 火車上單親媽愛上假軍官騙徒的電影 https://www.ptt.cc/bbs/movie/M.1749887020.A.AE4.html\n",
            " 6/14 [超爽雷] 馴龍高手 真人 必看4DX 喜歡怪獸就看 https://www.ptt.cc/bbs/movie/M.1749888515.A.096.html\n",
            " 6/14 [LIVE] HBO 22:00 天使營救 https://www.ptt.cc/bbs/movie/M.1749890825.A.E67.html\n",
            " 6/14 [新聞] 第二部《水深火熱》有望？雷尼哈林再戰 https://www.ptt.cc/bbs/movie/M.1749896817.A.014.html\n",
            " 6/14 [討論] 雷文條款討論 以馴龍高手為例 (內有雷) https://www.ptt.cc/bbs/movie/M.1749900219.A.185.html\n",
            " 6/14 [問片] 一個退休上校和一個高中生？的片名 https://www.ptt.cc/bbs/movie/M.1749900365.A.143.html\n",
            " 6/14 [問片] 毒梟殺了特種兵被尋仇團滅 https://www.ptt.cc/bbs/movie/M.1749911229.A.8DE.html\n",
            " 6/12 [新聞]獨／預購《馴龍高手》海報撲空　影城主管 https://www.ptt.cc/bbs/movie/M.1749743127.A.358.html\n",
            " 6/12 [情報] 歌劇魅影 20週年經典重映 https://www.ptt.cc/bbs/movie/M.1749743413.A.BF1.html\n",
            " 6/13 [新聞] 《造山者》聚焦台灣 刻劃半導體產業史 https://www.ptt.cc/bbs/movie/M.1749744439.A.FF0.html\n",
            " 6/13 [討論] 音速小子3導演解釋金凱瑞雷射跳舞 https://www.ptt.cc/bbs/movie/M.1749744884.A.559.html\n",
            " 6/13 Re: [ 好雷] 寶藏獵人-意外好笑的法國喜劇 https://www.ptt.cc/bbs/movie/M.1749745897.A.102.html\n",
            " 6/13 [好雷] 赤眼玄機 https://www.ptt.cc/bbs/movie/M.1749750919.A.839.html\n",
            " 6/13 [討論] 越來越難一口氣看完一部電影了... https://www.ptt.cc/bbs/movie/M.1749775635.A.54B.html\n",
            " 6/13 [新聞] 《咒怨2》齋藤步病逝！曾拍抗癌紀錄片　 https://www.ptt.cc/bbs/movie/M.1749778591.A.B21.html\n",
            " 6/13 [普雷] 吸血鬼：諾斯費拉圖Nosferatu https://www.ptt.cc/bbs/movie/M.1749782832.A.9F8.html\n",
            " 6/13 [普雷] 五重點探討《不可能的任務：最終清算》 https://www.ptt.cc/bbs/movie/M.1749786276.A.4C5.html\n",
            " 6/13 [新聞] 《獵捕咕嚕》精靈王子需靠AI回春身輕如燕 https://www.ptt.cc/bbs/movie/M.1749786821.A.AB5.html\n",
            " 6/13 [情報] 真人版電影《秒速 5 公分》釋出特報影片  https://www.ptt.cc/bbs/movie/M.1749790260.A.F43.html\n",
            " 6/13 [超大負雷] 小子難纏-空手道傳奇就是部大鬧劇！ https://www.ptt.cc/bbs/movie/M.1749796680.A.C3A.html\n",
            " 6/13 [微雷] 拿坡里之戀 https://www.ptt.cc/bbs/movie/M.1749799072.A.FF0.html\n",
            " 6/13 [新聞] Jisoo、Nana不走甜美風！女神耍狠面貌曝 https://www.ptt.cc/bbs/movie/M.1749801831.A.FD3.html\n",
            " 6/13 [選片] 28年毀滅倒數 https://www.ptt.cc/bbs/movie/M.1749803129.A.FB5.html\n",
            " 6/13 [好微雷]馴龍高手 --為某原因二刷XD https://www.ptt.cc/bbs/movie/M.1749805665.A.461.html\n",
            " 6/13 [好雷] 捍衛任務：復仇芭蕾──值得一看的外傳 https://www.ptt.cc/bbs/movie/M.1749806650.A.459.html\n",
            " 6/13 [好雷]【情書】X【心之谷】圖書館借書卡之戀  https://www.ptt.cc/bbs/movie/M.1749808241.A.2C1.html\n",
            " 6/13 [情報] 2025 評論家選擇超級獎 入圍名單 https://www.ptt.cc/bbs/movie/M.1749814362.A.2A4.html\n",
            " 6/12 [討論] 《超人》終極預告 https://www.ptt.cc/bbs/movie/M.1749658229.A.30F.html\n",
            " 6/12 [請益] 雷霆特攻隊某角色 https://www.ptt.cc/bbs/movie/M.1749661124.A.B9A.html\n",
            " 6/12 [無雷] 激推！馴龍高手4DX3D https://www.ptt.cc/bbs/movie/M.1749661896.A.234.html\n",
            " 6/12 [討論] 雷霆特攻隊:模仿大師怎麼不找找自己問題? https://www.ptt.cc/bbs/movie/M.1749661921.A.9BD.html\n",
            " 6/12 Re: [討論] 台灣為什麼這麼愛用『鬼』來拍喜劇片？ https://www.ptt.cc/bbs/movie/M.1749663223.A.E8A.html\n",
            " 6/12 [新聞] 柔伊沙達娜說她的小金人是性別流動的 https://www.ptt.cc/bbs/movie/M.1749684020.A.0E3.html\n",
            " 6/12 [好微雷] 在熙的男，朋友 觀後感 https://www.ptt.cc/bbs/movie/M.1749685293.A.001.html\n",
            " 6/12 [新聞] 迪士尼、環球影業對AI公司提告 https://www.ptt.cc/bbs/movie/M.1749688074.A.B47.html\n",
            " 6/12 [討論] 王晶重拍《四大探長》被酸炒冷飯 https://www.ptt.cc/bbs/movie/M.1749689121.A.2F8.html\n",
            " 6/12 [新聞] 黃秋生新電影《不赦之罪》小成本奇蹟！　 https://www.ptt.cc/bbs/movie/M.1749697833.A.07A.html\n",
            " 6/12 [新聞] 《國有器官》導演：用鏡頭揭開活摘黑幕 https://www.ptt.cc/bbs/movie/M.1749700539.A.333.html\n",
            " 6/12 [討論] 《F1電影》觸覺回饋預告 https://www.ptt.cc/bbs/movie/M.1749704953.A.BD2.html\n",
            " 6/12 [新聞]《看不見的國家》將上映 導演哽咽喊話台灣 https://www.ptt.cc/bbs/movie/M.1749716201.A.58C.html\n",
            " 6/12 [普雷]《貪金無厭：古董富商的神秘寶藏》 https://www.ptt.cc/bbs/movie/M.1749717858.A.577.html\n",
            " 6/12 [新聞] 布萊德彼特頂小平頭走《F1電影》紅毯 https://www.ptt.cc/bbs/movie/M.1749718994.A.1CA.html\n",
            " 6/12 [新聞] 新《神力女超人》劇本創作中 與前作無關聯 https://www.ptt.cc/bbs/movie/M.1749719699.A.255.html\n",
            " 6/12 [超級好雷] 2025馴龍高手3D 真人版 https://www.ptt.cc/bbs/movie/M.1749723784.A.66D.html\n",
            " 6/12 [新聞] 瑞貝爾威爾森變身<超硬伴娘>拍到爆血送醫 https://www.ptt.cc/bbs/movie/M.1749737208.A.F46.html\n",
            " 6/12 [好微雷] 沒有煙硝的愛情 https://www.ptt.cc/bbs/movie/M.1749739445.A.E05.html\n",
            " 6/12 [新聞]岡恩拒將雷神索爾加入《星際異攻隊》！終 https://www.ptt.cc/bbs/movie/M.1749740298.A.E77.html\n"
          ]
        }
      ]
    },
    {
      "cell_type": "markdown",
      "source": [
        "美食版五篇"
      ],
      "metadata": {
        "id": "Ebs685TtRMvj"
      }
    },
    {
      "cell_type": "code",
      "source": [
        "def get_articles(url):\n",
        "    response = requests.get(url)\n",
        "    soup = BeautifulSoup(response.text, 'html.parser')\n",
        "    for artl in soup.find_all('div', class_='r-ent'):\n",
        "      if artl.find('div', class_='title').a:\n",
        "        ttle = artl.find('div', class_='title').a.text\n",
        "        href = 'https://www.ptt.cc' + artl.find('div', class_='title').a.get('href')\n",
        "      else:\n",
        "        ttle = artl.find('div', class_='title').text\n",
        "        href = ''\n",
        "      date = artl.find('div', class_='date').text\n",
        "      print(date, ttle, href)\n",
        "    url = 'https://www.ptt.cc' + soup.find_all('a', class_='btn wide')[1].get('href')\n",
        "    return url\n",
        "\n",
        "url = 'https://www.ptt.cc/bbs/Food/index.html'\n",
        "for i in range(5):\n",
        "  url = get_articles(url)"
      ],
      "metadata": {
        "id": "KPAM0TGLPaCp",
        "colab": {
          "base_uri": "https://localhost:8080/"
        },
        "outputId": "f52727a4-7ae2-4a21-c208-6fd7246ad6a4"
      },
      "execution_count": null,
      "outputs": [
        {
          "output_type": "stream",
          "name": "stdout",
          "text": [
            " 6/15 [食記] 三重 二鬼麵舖 細火慢燉的辣魂滋味 https://www.ptt.cc/bbs/Food/M.1749978561.A.16E.html\n",
            " 6/15 [食記] 嘉義 竹崎 奮起湖大飯店 https://www.ptt.cc/bbs/Food/M.1749982883.A.EA4.html\n",
            "12/16 [公告] Food板 板規 V3.91 https://www.ptt.cc/bbs/Food/M.1355673582.A.5F7.html\n",
            " 9/28 [公告] 發文請在標題加上地區及提供地址電話。^^ https://www.ptt.cc/bbs/Food/M.1190944426.A.E6C.html\n",
            "10/01 [公告] 文章被刪除者請洽精華區的資源回收桶 https://www.ptt.cc/bbs/Food/M.1128132666.A.0FD.html\n",
            " 6/04 [公告] 新增板規22：發文禁附延伸閱讀連結 https://www.ptt.cc/bbs/Food/M.1496532469.A.C36.html\n",
            " 6/11 [食記] 新北 板橋 蚓珈琲 藏身公寓二樓復古氛圍 https://www.ptt.cc/bbs/Food/M.1749643664.A.163.html\n",
            " 6/11 [食記] 北京 北平三兄弟涮肉 https://www.ptt.cc/bbs/Food/M.1749651896.A.0E5.html\n",
            " 6/12 [食記] 新北三重 永騰熟成牛排館.鐵板燒Teppanya https://www.ptt.cc/bbs/Food/M.1749659807.A.CBA.html\n",
            " 6/12 [食記] 桃園 喵日子café 貓咪咖啡廳 網美咖啡廳 https://www.ptt.cc/bbs/Food/M.1749707412.A.1FD.html\n",
            " 6/12 [食記] 全聯WE SWEET 甜點心得記錄  https://www.ptt.cc/bbs/Food/M.1749719150.A.4E8.html\n",
            " 6/12 Fw: [食記] 新竹三角公園手推攤車 高麗菜飯,芋頭粥 https://www.ptt.cc/bbs/Food/M.1749736872.A.451.html\n",
            " 6/12 [食記] 台北大直 La Vie by Thomas Bühner https://www.ptt.cc/bbs/Food/M.1749738069.A.C32.html\n",
            " 6/12 [食記] 桃園平鎮區。龍福 腿庫飯/滑肉麵 https://www.ptt.cc/bbs/Food/M.1749738527.A.FE8.html\n",
            " 6/13 [食記] 桃園中壢-客家文昌雞-阿莫中壢創始店 https://www.ptt.cc/bbs/Food/M.1749772408.A.EA7.html\n",
            " 6/13 [廣宣] 台北 500盤名店宜慶生約會-L'AGE熟成餐廳 https://www.ptt.cc/bbs/Food/M.1749779196.A.A35.html\n",
            " 6/13 Fw: [食記] 北海道 成吉思汗烤肉MASAJIN札幌薄野本店 https://www.ptt.cc/bbs/Food/M.1749803492.A.957.html\n",
            " 6/13 [食記] 美國 Sausalito 必吃美食 fish. https://www.ptt.cc/bbs/Food/M.1749824762.A.D0F.html\n",
            " 6/14 [食記] 嘉義 西區 西市鱔魚麵 https://www.ptt.cc/bbs/Food/M.1749837533.A.F5E.html\n",
            " 6/14 [食記] 台中西區美術館旁 Bagel&Bagels 貝與果 https://www.ptt.cc/bbs/Food/M.1749859808.A.9E4.html\n",
            " 6/14 [食記] 桃園。慧光素食店 https://www.ptt.cc/bbs/Food/M.1749887569.A.717.html\n",
            " 6/14 [食記] 台中-暮藏和牛鍋物~專人服務 https://www.ptt.cc/bbs/Food/M.1749893959.A.BC6.html\n",
            " 6/14 [食記] 台北 大安區｜Mixigan 美墨創意蔬食料理 https://www.ptt.cc/bbs/Food/M.1749908076.A.A79.html\n",
            " 6/14 [食記] 台北 Zaap ~又刷了17道 https://www.ptt.cc/bbs/Food/M.1749909425.A.56F.html\n",
            " 6/14 [食記] 新北 IKEA宜家家居新莊店百香柚子霜淇淋 https://www.ptt.cc/bbs/Food/M.1749915026.A.6D4.html\n",
            " 6/14 [食記] 嘉義東區—蘇傳統紅豆餅｜傳統銅板小點 是過於濕軟與甜蜜 https://www.ptt.cc/bbs/Food/M.1749916426.A.68B.html\n",
            " 6/09 [食記] 高雄 A-Grill Steak House 乾式熟成牛排 https://www.ptt.cc/bbs/Food/M.1749474770.A.6C1.html\n",
            " 6/09 [食記] 羅東 涮樂和牛鍋物 https://www.ptt.cc/bbs/Food/M.1749478510.A.7A7.html\n",
            " 6/09 [食記] 台北 Yoru-よる + 寂川Jyakugawa https://www.ptt.cc/bbs/Food/M.1749478715.A.591.html\n",
            " 6/10 [食記] 台南善化阿牛仔牛肉湯 滷肉飯吃到飽 https://www.ptt.cc/bbs/Food/M.1749539520.A.25B.html\n",
            " 6/10 [食記] 西門船麵  微妙的有特色 https://www.ptt.cc/bbs/Food/M.1749543407.A.C10.html\n",
            " 6/10 [食記] 台中西區 荳牛西班牙料理 多年後二訪 https://www.ptt.cc/bbs/Food/M.1749545749.A.0E5.html\n",
            " 6/10 [食記] 台北大安區 樂子瑞安店 https://www.ptt.cc/bbs/Food/M.1749546393.A.27B.html\n",
            " 6/10 [轉讓] 饗饗 微風店(6/12) https://www.ptt.cc/bbs/Food/M.1749556952.A.84E.html\n",
            " 6/10 [食記] 新北 中和區｜酒聚居酒屋 https://www.ptt.cc/bbs/Food/M.1749559110.A.775.html\n",
            " 6/10 [食記] 香港 好酒好蔡 https://www.ptt.cc/bbs/Food/M.1749563373.A.A86.html\n",
            " 6/10 [食記] 桃園中壢區。欣園餐館 https://www.ptt.cc/bbs/Food/M.1749565423.A.334.html\n",
            " 6/10 [食記] 藏壽司 頭份店 https://www.ptt.cc/bbs/Food/M.1749565859.A.81A.html\n",
            " 6/11 [食記] 台北 勞瑞斯牛肋排 滿滿儀式感的慶生餐 https://www.ptt.cc/bbs/Food/M.1749571332.A.3EC.html\n",
            " 6/11 [食記] 日本名古屋—大須つぼ焼き芋 氏田屋｜紅薯直球決勝負 陶罐 https://www.ptt.cc/bbs/Food/M.1749571848.A.A8F.html\n",
            " 6/11 [食記] 嘉義 東區 可口火雞肉飯 https://www.ptt.cc/bbs/Food/M.1749577958.A.143.html\n",
            " 6/11 [食記] 嘉義 西區 阿婆炸麻糬 https://www.ptt.cc/bbs/Food/M.1749578998.A.42B.html\n",
            " 6/11 [食記] 台北大安 饌味香鍋貼麵食館 好吃實惠 https://www.ptt.cc/bbs/Food/M.1749622491.A.0CD.html\n",
            " 6/11 [食記] 台北大同 迪化街 dixielane 迪士巷咖啡 https://www.ptt.cc/bbs/Food/M.1749627364.A.6C0.html\n",
            " 6/11 [食記] 台北萬華 金咕韓式原塊烤肉 https://www.ptt.cc/bbs/Food/M.1749627761.A.E78.html\n",
            " 6/11 [食記] 台南中西區 李媽媽民族鍋燒老店 https://www.ptt.cc/bbs/Food/M.1749627913.A.FDF.html\n",
            " 6/05 [食記] 桃園中壢區。文化二路無名越南法國麵包 https://www.ptt.cc/bbs/Food/M.1749130384.A.BAF.html\n",
            " 6/05 [食記] 台北 老弄堂(小趙私廚新址) https://www.ptt.cc/bbs/Food/M.1749133559.A.531.html\n",
            " 6/06 [食記] 台北松山 The Antipodean 樂艾咖啡 富錦店 澳洲咖啡早 https://www.ptt.cc/bbs/Food/M.1749142447.A.8E1.html\n",
            " 6/06 [轉讓] 饗 A JOY 6/27 晚餐 2人以上 https://www.ptt.cc/bbs/Food/M.1749173149.A.F5A.html\n",
            " 6/06 [食記] 台中 豐原區｜享千葉火鍋 豐原店 https://www.ptt.cc/bbs/Food/M.1749211079.A.9B3.html\n",
            " 6/06 [食記] 台北 Parko Parco牛肚包 ~餐酒館新址 https://www.ptt.cc/bbs/Food/M.1749220703.A.0F4.html\n",
            " 6/06 [轉讓] 6/7 板橋大遠百初魚鮨2位19:40 https://www.ptt.cc/bbs/Food/M.1749221193.A.48C.html\n",
            " 6/06 [食記] 德國柏林 Curry 36、Curry Mitte咖哩香腸 https://www.ptt.cc/bbs/Food/M.1749221665.A.5AE.html\n",
            " 6/06 [公告] 水桶－Ornette https://www.ptt.cc/bbs/Food/M.1749224098.A.34A.html\n",
            " 6/07 [食記] 台北。微風信義47F-Sea to sky 牛排海鮮 https://www.ptt.cc/bbs/Food/M.1749255468.A.E59.html\n",
            " 6/07 [食記] 花蓮 光輝老宅 義大利麵、燉飯都好吃 https://www.ptt.cc/bbs/Food/M.1749279489.A.900.html\n",
            " 6/07 [食記] 新北蘆洲 毅然蕨然咖啡廳  有店貓 https://www.ptt.cc/bbs/Food/M.1749289785.A.894.html\n",
            " 6/07 [食記] 桃園中壢區。食厭世 https://www.ptt.cc/bbs/Food/M.1749298945.A.C03.html\n",
            " 6/07 [食記] 新北 孫東寶台式牛排教父Plus板橋國慶店 https://www.ptt.cc/bbs/Food/M.1749310022.A.83F.html\n",
            " 6/08 Fw: [食記] 澳門自助山平日中餐 https://www.ptt.cc/bbs/Food/M.1749345003.A.B87.html\n",
            " 6/08 [食記] 台北文山 貓空龍門客棧 https://www.ptt.cc/bbs/Food/M.1749380561.A.231.html\n",
            " 6/09 [食記] 桃園 300° STEAK 南崁店 桃園到底多愛夜市牛排 https://www.ptt.cc/bbs/Food/M.1749399228.A.1C9.html\n",
            " 6/09 [食記] 台中清新溫泉飯店 無菜單日本料理 鮨真 https://www.ptt.cc/bbs/Food/M.1749464687.A.DD5.html\n",
            " 6/09 [食記] 台中 羽悦燒肉 https://www.ptt.cc/bbs/Food/M.1749468581.A.1E9.html\n",
            " 6/09 [食記] 嘉義 西區 京製茶 Kyo Cha https://www.ptt.cc/bbs/Food/M.1749468723.A.B96.html\n",
            " 6/02 [食記] 北京 尹三豆汁、黑窯廠糖油餅 https://www.ptt.cc/bbs/Food/M.1748872531.A.7A9.html\n",
            " 6/03 [食記] 10間大阪美食：必比登炸豬排、中崎町咖啡 https://www.ptt.cc/bbs/Food/M.1748882217.A.609.html\n",
            " 6/03 [食記] 瑞典 斯德哥爾摩 Meatballs for the People https://www.ptt.cc/bbs/Food/M.1748887098.A.89C.html\n",
            " 6/03 [廣宣] 新竹 超澎湃老饕級海陸雙享-玖享聚鍋物 https://www.ptt.cc/bbs/Food/M.1748916846.A.6DE.html\n",
            " 6/03 [食記] 桃園 大園 1996 BURGER https://www.ptt.cc/bbs/Food/M.1748932631.A.402.html\n",
            " 6/03 [食記] 桃園 Roll Cafe 捲日子 捷克煙囪捲甜點 https://www.ptt.cc/bbs/Food/M.1748954845.A.BC5.html\n",
            " 6/03 [食記] 美國 長灘黎巴嫩地中海料理Open Sesame https://www.ptt.cc/bbs/Food/M.1748955636.A.30E.html\n",
            " 6/03 [食記] 桃園大溪區。游記百年油飯 https://www.ptt.cc/bbs/Food/M.1748959529.A.186.html\n",
            " 6/03 [食記] 海羊 三種湯頭羊肉麵 煎餃也是好對味 https://www.ptt.cc/bbs/Food/M.1748960111.A.DA5.html\n",
            " 6/04 [食記] 新北三重 光興腿庫 排隊人氣名店 https://www.ptt.cc/bbs/Food/M.1748970296.A.F03.html\n",
            " 6/04 [食記] 北市北投-陽明山竹子湖土雞城-吉園葡 https://www.ptt.cc/bbs/Food/M.1748995048.A.EFB.html\n",
            " 6/04 [食記] 新竹 東區 斜角古早味綿綿冰 https://www.ptt.cc/bbs/Food/M.1749025380.A.DE2.html\n",
            " 6/04 Fw: [食記] 京都 Grill生研会館　洋食堂鄰近下鴨神社 https://www.ptt.cc/bbs/Food/M.1749026710.A.1AE.html\n",
            " 6/04 [轉讓] 旭集 信義店 6/8 14:30 https://www.ptt.cc/bbs/Food/M.1749034648.A.3CB.html\n",
            " 6/04 [食記] 香港 強記美食+時代豆業 https://www.ptt.cc/bbs/Food/M.1749046291.A.DE1.html\n",
            " 6/04 [食記] 宜蘭員山 樂多廚房 寵物友善餐廳 https://www.ptt.cc/bbs/Food/M.1749049417.A.200.html\n",
            " 6/05 [食記] 新北金山 金包里農舍莊園~歐式風車莊園 https://www.ptt.cc/bbs/Food/M.1749056417.A.21C.html\n",
            " 6/05 [廣宣] 台北 甩鍋雞韓式炒雞吃到飽還有銅盤烤肉 https://www.ptt.cc/bbs/Food/M.1749088077.A.028.html\n",
            " 6/05 [食記] 桃園 烤馬鈴薯 創意烤馬鈴薯好棒 https://www.ptt.cc/bbs/Food/M.1749092799.A.48E.html\n",
            " 6/05 [食記] 雲林 土庫 金茂利鐘錶咖啡 https://www.ptt.cc/bbs/Food/M.1749121705.A.392.html\n"
          ]
        }
      ]
    },
    {
      "cell_type": "markdown",
      "source": [
        "八卦版五篇"
      ],
      "metadata": {
        "id": "A64UgJgHR24B"
      }
    },
    {
      "cell_type": "code",
      "source": [
        "def get_articles(url):\n",
        "    response = requests.get(url)\n",
        "    soup = BeautifulSoup(response.text, 'html.parser')\n",
        "    for artl in soup.find_all('div', class_='r-ent'):\n",
        "      if artl.find('div', class_='title').a:\n",
        "        ttle = artl.find('div', class_='title').a.text\n",
        "        href = 'https://www.ptt.cc' + artl.find('div', class_='title').a.get('href')\n",
        "      else:\n",
        "        ttle = artl.find('div', class_='title').text\n",
        "        href = ''\n",
        "      date = artl.find('div', class_='date').text\n",
        "      print(date, ttle, href)\n",
        "    url = 'https://www.ptt.cc' + soup.find_all('a', class_='btn wide')[1].get('href')\n",
        "    return url\n",
        "\n",
        "url = 'https://www.ptt.cc/bbs/Gossiping/index.html'\n",
        "for i in range(5):\n",
        "  url = get_articles(url)"
      ],
      "metadata": {
        "colab": {
          "base_uri": "https://localhost:8080/"
        },
        "id": "nmiqyRnxR5eL",
        "outputId": "0ba778e7-e866-4997-d656-e8ffde3ebf99"
      },
      "execution_count": null,
      "outputs": [
        {
          "output_type": "stream",
          "name": "stdout",
          "text": [
            " 6/15 [問卦] 鍋貼配炒飯是最頂的吧 https://www.ptt.cc/bbs/Gossiping/M.1750002151.A.F5D.html\n",
            " 6/15 [新聞] 影／館長返台宣布下階段計畫 要讓「大罷免大失敗」 https://www.ptt.cc/bbs/Gossiping/M.1750002155.A.297.html\n",
            " 6/15 Re: [問卦] 脆灣姐：避難包要準備陰道潤滑劑就覺得 https://www.ptt.cc/bbs/Gossiping/M.1750002261.A.DA3.html\n",
            " 6/15 [地震] 地震 https://www.ptt.cc/bbs/Gossiping/M.1750002269.A.8DB.html\n",
            " 6/15 [問卦] AIT避難包從火災地震準備渲染成為戰爭？ https://www.ptt.cc/bbs/Gossiping/M.1750002277.A.FF1.html\n",
            " 6/15 Re: [問卦] 館長為啥比黑熊院長 邏輯好這麼多? https://www.ptt.cc/bbs/Gossiping/M.1750002358.A.EB6.html\n",
            " 6/15 [問卦] 不經思考 一人說一個脆灣姐的特徵？ https://www.ptt.cc/bbs/Gossiping/M.1750002411.A.61B.html\n",
            " 6/15 [問卦] 燒一刻燦爛 抓一個溫馨晚上 https://www.ptt.cc/bbs/Gossiping/M.1750002422.A.6E4.html\n",
            " 6/15 [問卦] 慟！為什麼擁核沒有防止戰爭？ https://www.ptt.cc/bbs/Gossiping/M.1750002426.A.3C6.html\n",
            " 6/15 [問卦] 你們OPEN AI都有付錢嗎 https://www.ptt.cc/bbs/Gossiping/M.1750002427.A.A9F.html\n",
            " 6/15 [問卦]  AIT:請台灣民眾準備避難包 https://www.ptt.cc/bbs/Gossiping/M.1750002427.A.3F4.html\n",
            " 6/15 [新聞] 成功嶺替代役爆毒蟲入營 內政部：嚴正執 https://www.ptt.cc/bbs/Gossiping/M.1750002461.A.39B.html\n",
            " 6/15 [問卦] 人為什麼要工作 https://www.ptt.cc/bbs/Gossiping/M.1750002492.A.8E0.html\n",
            " 6/15 [新聞] 館長回台了！「開啟躲避球模式」：在中 https://www.ptt.cc/bbs/Gossiping/M.1750002495.A.054.html\n",
            " 6/15 Re: [新聞] 高雄水溝竟挖出「600公斤雜草」 居民怒： https://www.ptt.cc/bbs/Gossiping/M.1750002510.A.D8E.html\n",
            " 6/15 Re: [新聞] 美2萬枚飛彈轉援以色列！澤倫斯基哀號： https://www.ptt.cc/bbs/Gossiping/M.1750002519.A.389.html\n",
            " 1/21 [公告] 八卦板板規(2025.01.21) https://www.ptt.cc/bbs/Gossiping/M.1737398137.A.644.html\n",
            " 5/07 [公告] 群組廢棄小組長判決併口頭警告 水桶 https://www.ptt.cc/bbs/Gossiping/M.1746611476.A.966.html\n",
            " 5/21 [爆卦] 三峽車禍確定要上街抗議了！ https://www.ptt.cc/bbs/Gossiping/M.1747812037.A.195.html\n",
            " 5/26 [公告] 【八卦文學獎】一篇廢文震撼整個評審團 https://www.ptt.cc/bbs/Gossiping/M.1748234431.A.B64.html\n",
            " 6/15 [新聞] 小黨發起「民主行動隊」巴士行動 首站花 https://www.ptt.cc/bbs/Gossiping/M.1750001077.A.030.html\n",
            " 6/15 Re: [新聞] 高雄水溝竟挖出「600公斤雜草」 居民怒： https://www.ptt.cc/bbs/Gossiping/M.1750001182.A.A37.html\n",
            " 6/15 Re: [問卦] 脆灣姐：避難包要準備陰道潤滑劑就覺得 https://www.ptt.cc/bbs/Gossiping/M.1750001304.A.FDC.html\n",
            " 6/15 [問卦] 您希望北市的垃圾桶有什麼功能呢？ https://www.ptt.cc/bbs/Gossiping/M.1750001322.A.001.html\n",
            " 6/15 [問卦] 飲料太酸可以加小蘇打粉中和嗎？ https://www.ptt.cc/bbs/Gossiping/M.1750001330.A.4AD.html\n",
            " 6/15 Re: [新聞] 藍白擬廢監察院盼加速 綠：不該隨意丟出 https://www.ptt.cc/bbs/Gossiping/M.1750001457.A.1EA.html\n",
            " 6/15 [問卦] 讓surface pro好幾代觸控失靈的SWE現在哪 https://www.ptt.cc/bbs/Gossiping/M.1750001482.A.C21.html\n",
            " 6/15 Re: [新聞] 產檢報告都正常卻生下「唐寶寶」　母崩 https://www.ptt.cc/bbs/Gossiping/M.1750001487.A.1CE.html\n",
            " 6/15 [問卦] 攻略日本妹真的比台女孩容易嗎? https://www.ptt.cc/bbs/Gossiping/M.1750001493.A.3A4.html\n",
            " 6/15 [問卦] 青鳥女為什麼一直幻想會被強姦？ https://www.ptt.cc/bbs/Gossiping/M.1750001569.A.C02.html\n",
            " 6/15 [問卦] 有人跟我一樣淡泊名利 不沽名釣譽的嗎? https://www.ptt.cc/bbs/Gossiping/M.1750001604.A.2AC.html\n",
            " 6/15 Re: [問卦] 全聯買東西一定要索取明細！ https://www.ptt.cc/bbs/Gossiping/M.1750001615.A.2DF.html\n",
            " 6/15 [問卦] 脆民避難包首推哪家才是全部MIT？ https://www.ptt.cc/bbs/Gossiping/M.1750001655.A.063.html\n",
            " 6/15 Re: [問卦] 脆灣姐：避難包要準備陰道潤滑劑就覺得 https://www.ptt.cc/bbs/Gossiping/M.1750001774.A.5C8.html\n",
            " 6/15 [新聞] 美2萬枚飛彈轉援以色列！澤倫斯基哀號： https://www.ptt.cc/bbs/Gossiping/M.1750001862.A.A30.html\n",
            " 6/15 [問卦] 伊朗的飛彈造價多少呢 https://www.ptt.cc/bbs/Gossiping/M.1750001938.A.D03.html\n",
            " 6/15 [新聞] 小22歲嫩妻有喜了！59歲郭富城開心認升格3寶爸 https://www.ptt.cc/bbs/Gossiping/M.1750001944.A.2CD.html\n",
            " 6/15 Re: [新聞] 美2萬枚飛彈轉援以色列！澤倫斯基哀號： https://www.ptt.cc/bbs/Gossiping/M.1750002001.A.946.html\n",
            " 6/15 Re: [問卦] 沒有小孩的人活著要幹嘛？ https://www.ptt.cc/bbs/Gossiping/M.1750002009.A.FD0.html\n",
            " 6/15 [問卦] 有網軍搞內容農場的掛嗎? https://www.ptt.cc/bbs/Gossiping/M.1750002081.A.1BE.html\n",
            " 6/15 [問卦] 俄羅斯會繼續侵略歐洲？ https://www.ptt.cc/bbs/Gossiping/M.1750000257.A.122.html\n",
            " 6/15 [新聞] 台中21歲「黑戶」年輕人故事離奇 伸援手 https://www.ptt.cc/bbs/Gossiping/M.1750000278.A.273.html\n",
            " 6/15 [問卦]【今日Ｌuｎaｒ近似進地點】 https://www.ptt.cc/bbs/Gossiping/M.1750000338.A.AFD.html\n",
            " 6/15 [問卦] 脆灣姐：避難包要準備陰道潤滑劑就覺得 https://www.ptt.cc/bbs/Gossiping/M.1750000362.A.FAE.html\n",
            " 6/15 [問卦] 怎麼讓輸掉的人再崩潰一次 https://www.ptt.cc/bbs/Gossiping/M.1750000368.A.CBD.html\n",
            " 6/15 [問卦] 在日本上班被日本人歧視學歷很正常嗎? https://www.ptt.cc/bbs/Gossiping/M.1750000469.A.8E2.html\n",
            " 6/15 [新聞] 驚悚影片｜13歲學生觸電變「火焰人」 https://www.ptt.cc/bbs/Gossiping/M.1750000510.A.414.html\n",
            " 6/15 [新聞] 以伊互轟市區　網友考古酸于北辰「天弓21 https://www.ptt.cc/bbs/Gossiping/M.1750000594.A.F1E.html\n",
            " 6/15 [問卦] 台男猴在手扶梯空氣運球把袋子卡在柱子 https://www.ptt.cc/bbs/Gossiping/M.1750000654.A.F80.html\n",
            " 6/15 [問卦] 現在還有哪些台灣女星可以代表公認正妹 https://www.ptt.cc/bbs/Gossiping/M.1750000766.A.E5C.html\n",
            " 6/15 [問卦] 館長為啥比黑熊院長 邏輯好這麼多? https://www.ptt.cc/bbs/Gossiping/M.1750000775.A.9AA.html\n",
            " 6/15 Re: [問卦] 花30000元準備的避難包清單 https://www.ptt.cc/bbs/Gossiping/M.1750000781.A.8D0.html\n",
            " 6/15 [問卦] 富邦大巨蛋4連戰後是直接封王了嗎？ https://www.ptt.cc/bbs/Gossiping/M.1750000789.A.21E.html\n",
            " 6/15 [問卦] 現在怎麼沒有XX狗屋的廣告了? https://www.ptt.cc/bbs/Gossiping/M.1750000791.A.201.html\n",
            " 6/15 [問卦] 避難包要放什麼好呢？ https://www.ptt.cc/bbs/Gossiping/M.1750000807.A.7D8.html\n",
            " 6/15 [問卦] 為什麼朕去上海沒有粉絲追？ https://www.ptt.cc/bbs/Gossiping/M.1750000858.A.244.html\n",
            " 6/15 [問卦] 八卦版星期日晚上才八千多人？ https://www.ptt.cc/bbs/Gossiping/M.1750000892.A.70A.html\n",
            " 6/15 [問卦] 上海和台北哪個比較吸引人去住阿？ https://www.ptt.cc/bbs/Gossiping/M.1750000902.A.D9B.html\n",
            " 6/15 [問卦] 避難包的泡麵要選哪一種? https://www.ptt.cc/bbs/Gossiping/M.1750001037.A.DD7.html\n",
            " 6/15 Re: [問卦] 脆灣姐：避難包要準備陰道潤滑劑就覺得 https://www.ptt.cc/bbs/Gossiping/M.1750001048.A.557.html\n",
            " 6/15 [新聞] 機上女客拍男子「土耳其植髮光頭照」 網 https://www.ptt.cc/bbs/Gossiping/M.1749999403.A.264.html\n",
            " 6/15 \n",
            "\t\t\t\n",
            "\t\t\t\t(本文已被刪除) [youwill]\n",
            "\t\t\t\n",
            "\t\t\t \n",
            " 6/15 [問卦] 如果金城武留中分龜髮型還是帥哥嗎? https://www.ptt.cc/bbs/Gossiping/M.1749999515.A.A76.html\n",
            " 6/15 [問卦] 發明雞湯塊的要得諾貝爾美食獎吧 https://www.ptt.cc/bbs/Gossiping/M.1749999575.A.864.html\n",
            " 6/15 [新聞] 拳擊》不敗拳王竟在車站遇襲身亡　9勝0 https://www.ptt.cc/bbs/Gossiping/M.1749999601.A.B82.html\n",
            " 6/15 [問卦] 現在教召到底多硬？ https://www.ptt.cc/bbs/Gossiping/M.1749999618.A.97A.html\n",
            " 6/15 [新聞] 高雄萬大橋驚見機車不見人...溪流湍急  https://www.ptt.cc/bbs/Gossiping/M.1749999661.A.9DB.html\n",
            " 6/15 [問卦] 很多女生為什麼都要拖到高齡產婦才生? https://www.ptt.cc/bbs/Gossiping/M.1749999734.A.6B4.html\n",
            " 6/15 [問卦] 欸不是 紙紮人那幫人跑哪去了？ https://www.ptt.cc/bbs/Gossiping/M.1749999767.A.B35.html\n",
            " 6/15 [新聞] 館長上海直播抖內收逾135萬！四叉貓估「 https://www.ptt.cc/bbs/Gossiping/M.1749999784.A.B5F.html\n",
            " 6/15 Re: [新聞] 高雄水溝竟挖出「600公斤雜草」 居民怒： https://www.ptt.cc/bbs/Gossiping/M.1749999817.A.787.html\n",
            " 6/15 [問卦] 有人記得以前google以圖搜圖超強的嗎？ https://www.ptt.cc/bbs/Gossiping/M.1749999849.A.14A.html\n",
            " 6/15 [新聞] 館長身邊「中天小姐姐」對岸紅了！開陸 https://www.ptt.cc/bbs/Gossiping/M.1749999872.A.8DC.html\n",
            " 6/15 \n",
            "\t\t\t\n",
            "\t\t\t\t(本文已被刪除) [yuechen]\n",
            "\t\t\t\n",
            "\t\t\t \n",
            " 6/15 Re: [問卦] 韓國女團是怎麼追過日本的AKB48的？ https://www.ptt.cc/bbs/Gossiping/M.1749999938.A.CF6.html\n",
            " 6/15 [問卦] 看過第一版『忍者亂太郎』動畫都幾歲了？ https://www.ptt.cc/bbs/Gossiping/M.1749999968.A.F38.html\n",
            " 6/15 Re: [問卦] 頂客族遺產還要分配給兄弟姐妹？ https://www.ptt.cc/bbs/Gossiping/M.1750000085.A.3C5.html\n",
            " 6/15 [問卦] gg沾到綠油精怎麼辦？ https://www.ptt.cc/bbs/Gossiping/M.1750000158.A.E3A.html\n",
            " 6/15 [問卦] 哥布林攻擊帥哥是因為自卑嗎？ https://www.ptt.cc/bbs/Gossiping/M.1750000167.A.8E5.html\n",
            " 6/15 [問卦] 拳王梅威瑟是畏戰館長嗎?怎麼沒來台灣 https://www.ptt.cc/bbs/Gossiping/M.1750000209.A.A70.html\n",
            " 6/15 [問卦] 有遇過很騷的男生嗎？ https://www.ptt.cc/bbs/Gossiping/M.1749998411.A.79E.html\n",
            " 6/15 [問卦] 為什麼有警察？ https://www.ptt.cc/bbs/Gossiping/M.1749998462.A.10C.html\n",
            " 6/15 [問卦] 周董哪首歌喚醒你青春回憶？ https://www.ptt.cc/bbs/Gossiping/M.1749998490.A.E8E.html\n",
            " 6/15 \n",
            "\t\t\t\n",
            "\t\t\t\t(本文已被刪除) [PalmAngels]\n",
            "\t\t\t\n",
            "\t\t\t \n",
            " 6/15 [問卦] 八仙怎麼都沒廣告的掛 https://www.ptt.cc/bbs/Gossiping/M.1749998546.A.AAD.html\n",
            " 6/15 \n",
            "\t\t\t\n",
            "\t\t\t\t(本文已被刪除) [Minimomo987]\n",
            "\t\t\t\n",
            "\t\t\t \n",
            " 6/15 [問卦] 避難包很正常吧？ https://www.ptt.cc/bbs/Gossiping/M.1749998588.A.BCB.html\n",
            " 6/15 [問卦] 以色列平民現在在想什麼? https://www.ptt.cc/bbs/Gossiping/M.1749998627.A.061.html\n",
            " 6/15 [新聞] Toyota 集團將開發機車安全氣囊！已完成 https://www.ptt.cc/bbs/Gossiping/M.1749998653.A.994.html\n",
            " 6/15 Re: [問卦] 花30000元準備的避難包清單 https://www.ptt.cc/bbs/Gossiping/M.1749998657.A.4F3.html\n",
            " 6/15 [新聞] 阿嬤機車「獨自升級」全身酥麻　2年才知機車「附電療」 https://www.ptt.cc/bbs/Gossiping/M.1749998736.A.4CF.html\n",
            " 6/15 [問卦] 有人也想一起去支那開直播嗎？ https://www.ptt.cc/bbs/Gossiping/M.1749998894.A.3A0.html\n",
            " 6/15 [問卦] 什麼時候會被帶走? https://www.ptt.cc/bbs/Gossiping/M.1749999014.A.FDA.html\n",
            " 6/15 [問卦] 韓電視新聞畫面被發現搜尋顯示陰莖抖抖 https://www.ptt.cc/bbs/Gossiping/M.1749999071.A.B77.html\n",
            " 6/15 [問卦] 欸 路上一堆中國大樓  脆姐們要去拆嗎？ https://www.ptt.cc/bbs/Gossiping/M.1749999093.A.7F0.html\n",
            " 6/15 [問卦] 李奧納多皮卡丘大輸基努李為？ https://www.ptt.cc/bbs/Gossiping/M.1749999198.A.2EC.html\n",
            " 6/15 [問卦] 國外的好市多也會在肉盤底下放劣肉嗎 https://www.ptt.cc/bbs/Gossiping/M.1749999210.A.20A.html\n",
            " 6/15 [問卦] 為什麼三立民視TVBS的麥克風是同一個人拿 https://www.ptt.cc/bbs/Gossiping/M.1749999280.A.77D.html\n",
            " 6/15 [問卦] Dcard彩虹 #健身後 暴露上癮了怎麼辦... https://www.ptt.cc/bbs/Gossiping/M.1749999344.A.08F.html\n",
            " 6/15 [問卦] 當故事結束之後 心也喜歡一個人寂寞 https://www.ptt.cc/bbs/Gossiping/M.1749999365.A.68F.html\n"
          ]
        }
      ]
    }
  ]
}