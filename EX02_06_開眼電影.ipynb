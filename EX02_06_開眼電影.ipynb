{
  "nbformat": 4,
  "nbformat_minor": 0,
  "metadata": {
    "colab": {
      "provenance": [],
      "authorship_tag": "ABX9TyOYEX2HQxOPw8zQ+Ek9xbQf",
      "include_colab_link": true
    },
    "kernelspec": {
      "name": "python3",
      "display_name": "Python 3"
    },
    "language_info": {
      "name": "python"
    }
  },
  "cells": [
    {
      "cell_type": "markdown",
      "metadata": {
        "id": "view-in-github",
        "colab_type": "text"
      },
      "source": [
        "<a href=\"https://colab.research.google.com/github/yunhsuan1009/yunhsuan/blob/main/EX02_06_%E9%96%8B%E7%9C%BC%E9%9B%BB%E5%BD%B1.ipynb\" target=\"_parent\"><img src=\"https://colab.research.google.com/assets/colab-badge.svg\" alt=\"Open In Colab\"/></a>"
      ]
    },
    {
      "cell_type": "code",
      "execution_count": null,
      "metadata": {
        "colab": {
          "base_uri": "https://localhost:8080/"
        },
        "id": "2W37bU_VP0Vg",
        "outputId": "9fb9c55b-20c5-414e-d13d-a50fb1d7be13"
      },
      "outputs": [
        {
          "output_type": "execute_result",
          "data": {
            "text/plain": [
              "<title>開眼電影網首頁--近期上映--</title>"
            ]
          },
          "metadata": {},
          "execution_count": 1
        }
      ],
      "source": [
        "import requests\n",
        "from bs4 import BeautifulSoup\n",
        "\n",
        "url = 'http://www.atmovies.com.tw/movie/next/'\n",
        "html = requests.get(url)\n",
        "\n",
        "#出現亂碼請加\n",
        "html.encoding = 'utf-8'\n",
        "\n",
        "soup = BeautifulSoup(html.text, 'html.parser')\n",
        "soup.title"
      ]
    },
    {
      "cell_type": "code",
      "source": [
        "soup.find('ul', class_='filmListAllX').find_all('li')\n"
      ],
      "metadata": {
        "colab": {
          "base_uri": "https://localhost:8080/"
        },
        "id": "lilhSBaeRRFP",
        "outputId": "16e5474f-2b65-4de5-b235-6e0c69fb5e74"
      },
      "execution_count": null,
      "outputs": [
        {
          "output_type": "execute_result",
          "data": {
            "text/plain": [
              "[<li><a href=\"/movie/fyen10548174/\"><img alt=\"28年毀滅倒數\" class=\"filmListAllXPoster\" src=\" http://www.atmovies.com.tw/photo101/fyen10548174/pl_fyen10548174_0004.jpg \"/></a>\n",
              " <div class=\"filmtitle\"><a href=\"/movie/fyen10548174/\">28年毀滅倒數</a></div>\n",
              " <div class=\"runtime\">上映日期：<a href=\"/movie/next/w25/\">2025/06/18</a>\n",
              " <br/><img align=\"absmiddle\" src=\"/images/cer_R.gif\"/>  片長：115分\t</div>\n",
              " </li>,\n",
              " <li><a href=\"/movie/ffen16311594/\"><img alt=\"F1電影\" class=\"filmListAllXPoster\" src=\" http://www.atmovies.com.tw/photo101/ffen16311594/pl_ffen16311594_0007.jpg \"/></a>\n",
              " <div class=\"filmtitle\"><a href=\"/movie/ffen16311594/\">F1電影</a></div>\n",
              " <div class=\"runtime\">上映日期：<a href=\"/movie/next/w26/\">2025/06/25</a>\n",
              " <br/>  </div>\n",
              " </li>,\n",
              " <li><a href=\"/movie/fdjp35891502/\"><img alt=\"名偵探柯南：獨眼的殘像\" class=\"filmListAllXPoster\" src=\" http://www.atmovies.com.tw/photo101/fdjp35891502/pl_fdjp35891502_0002.jpg \"/></a>\n",
              " <div class=\"filmtitle\"><a href=\"/movie/fdjp35891502/\">名偵探柯南：獨眼的殘像</a></div>\n",
              " <div class=\"runtime\">上映日期：<a href=\"/movie/next/w26/\">2025/06/25</a>\n",
              " <br/><img align=\"absmiddle\" src=\"/images/cer_P.gif\"/>  片長：109分\t</div>\n",
              " </li>,\n",
              " <li><a href=\"/movie/fmen26342662/\"><img alt=\"窒友梅根 2.0\" class=\"filmListAllXPoster\" src=\" http://www.atmovies.com.tw/photo101/fmen26342662/pl_fmen26342662_0002.jpg \"/></a>\n",
              " <div class=\"filmtitle\"><a href=\"/movie/fmen26342662/\">窒友梅根 2.0</a></div>\n",
              " <div class=\"runtime\">上映日期：<a href=\"/movie/next/w26/\">2025/06/27</a>\n",
              " <br/>  </div>\n",
              " </li>,\n",
              " <li><a href=\"/movie/fjen31036941/\"><img alt=\"侏羅紀世界：重生\" class=\"filmListAllXPoster\" src=\" http://www.atmovies.com.tw/photo101/fjen31036941/pl_fjen31036941_0002.jpg \"/></a>\n",
              " <div class=\"filmtitle\"><a href=\"/movie/fjen31036941/\">侏羅紀世界：重生</a></div>\n",
              " <div class=\"runtime\">上映日期：<a href=\"/movie/next/w27/\">2025/07/02</a>\n",
              " <br/>  </div>\n",
              " </li>,\n",
              " <li><a href=\"/movie/fsen45950044/\"><img alt=\"超人\" class=\"filmListAllXPoster\" src=\" http://www.atmovies.com.tw/photo101/fsen45950044/pl_fsen45950044_0003.jpg \"/></a>\n",
              " <div class=\"filmtitle\"><a href=\"/movie/fsen45950044/\">超人</a></div>\n",
              " <div class=\"runtime\">上映日期：<a href=\"/movie/next/w28/\">2025/07/09</a>\n",
              " <br/>  </div>\n",
              " </li>,\n",
              " <li><a href=\"/movie/fdjp33512868/\"><img alt=\"電影哆啦A夢：大雄的繪畫世界物語\" class=\"filmListAllXPoster\" src=\" http://www.atmovies.com.tw/photo101/fdjp33512868/pl_fdjp33512868_0002.jpg \"/></a>\n",
              " <div class=\"filmtitle\"><a href=\"/movie/fdjp33512868/\">大雄的繪畫世界物語</a></div>\n",
              " <div class=\"runtime\">上映日期：<a href=\"/movie/next/w29/\">2025/07/18</a>\n",
              " <br/>  片長：105分\t</div>\n",
              " </li>,\n",
              " <li><a href=\"/movie/ffen10676052/\"><img alt=\"驚奇4超人：第一步\" class=\"filmListAllXPoster\" src=\" http://www.atmovies.com.tw/photo101/ffen10676052/pl_ffen10676052_0007.jpg \"/></a>\n",
              " <div class=\"filmtitle\"><a href=\"/movie/ffen10676052/\">驚奇4超人：第一步</a></div>\n",
              " <div class=\"runtime\">上映日期：<a href=\"/movie/next/w30/\">2025/07/23</a>\n",
              " <br/>  </div>\n",
              " </li>,\n",
              " <li><a href=\"/movie/fben30017619/\"><img alt=\"壞蛋聯盟2\" class=\"filmListAllXPoster\" src=\" http://www.atmovies.com.tw/photo101/fben30017619/pl_fben30017619_0002.jpg \"/></a>\n",
              " <div class=\"filmtitle\"><a href=\"/movie/fben30017619/\">壞蛋聯盟2</a></div>\n",
              " <div class=\"runtime\">上映日期：<a href=\"/movie/next/w31/\">2025/08/01</a>\n",
              " <br/>  </div>\n",
              " </li>,\n",
              " <li><a href=\"/movie/fdjp32820897/\"><img alt=\"劇場版「鬼滅之刃」無限城篇\" class=\"filmListAllXPoster\" src=\" http://www.atmovies.com.tw/photo101/fdjp32820897/pl_fdjp32820897_0002.jpg \"/></a>\n",
              " <div class=\"filmtitle\"><a href=\"/movie/fdjp32820897/\">劇場版「鬼滅之刃」無限城篇</a></div>\n",
              " <div class=\"runtime\">上映日期：<a href=\"/movie/next/w32/\">2025/08/08</a>\n",
              " <br/>  </div>\n",
              " </li>,\n",
              " <li><a href=\"/movie/fmen30253473/\"><img alt=\"天作之合\" class=\"filmListAllXPoster\" src=\" http://www.atmovies.com.tw/photo101/fmen30253473/pl_fmen30253473_0001.jpg \"/></a>\n",
              " <div class=\"filmtitle\"><a href=\"/movie/fmen30253473/\">天作之合</a></div>\n",
              " <div class=\"runtime\">上映日期：2025/08/29\n",
              " \t\t\t\t\t\t<br/>  </div>\n",
              " </li>,\n",
              " <li><a href=\"/movie/fcjp30472557/\"><img alt=\"劇場版『鏈鋸人 蕾潔篇』\" class=\"filmListAllXPoster\" src=\" http://www.atmovies.com.tw/photo101/fcjp30472557/pl_fcjp30472557_0001.jpg \"/></a>\n",
              " <div class=\"filmtitle\"><a href=\"/movie/fcjp30472557/\">劇場版『鏈鋸人 蕾潔篇』</a></div>\n",
              " <div class=\"runtime\">上映日期：2025/09/24\n",
              " \t\t\t\t\t\t<br/>  </div>\n",
              " </li>,\n",
              " <li><a href=\"/movie/foen30144839/\"><img alt=\"一戰再戰\" class=\"filmListAllXPoster\" src=\" http://www.atmovies.com.tw/photo101/foen30144839/pl_foen30144839_0002.jpg \"/></a>\n",
              " <div class=\"filmtitle\"><a href=\"/movie/foen30144839/\">一戰再戰</a></div>\n",
              " <div class=\"runtime\">上映日期：2025/09/25\n",
              " \t\t\t\t\t\t<br/>  </div>\n",
              " </li>,\n",
              " <li><a href=\"/movie/fnen54712810/\"><img alt=\"出神入化3\" class=\"filmListAllXPoster\" src=\" http://www.atmovies.com.tw/photo101/fnen54712810/pl_fnen54712810_0001.jpg \"/></a>\n",
              " <div class=\"filmtitle\"><a href=\"/movie/fnen54712810/\">出神入化3</a></div>\n",
              " <div class=\"runtime\">上映日期：2025/11/14\n",
              " \t\t\t\t\t\t<br/>  </div>\n",
              " </li>,\n",
              " <li><a href=\"/movie/fzen31187839/\"><img alt=\"動物方城市2\" class=\"filmListAllXPoster\" src=\" http://www.atmovies.com.tw/photo101/fzen31187839/pl_fzen31187839_0002.jpg \"/></a>\n",
              " <div class=\"filmtitle\"><a href=\"/movie/fzen31187839/\">動物方城市2</a></div>\n",
              " <div class=\"runtime\">上映日期：2025/11/26\n",
              " \t\t\t\t\t\t<br/>  </div>\n",
              " </li>,\n",
              " <li><a href=\"/movie/faen71757678/\"><img alt=\"阿凡達：火與灰燼\" class=\"filmListAllXPoster\" src=\" http://www.atmovies.com.tw/photo101/faen71757678/pl_faen71757678_0001.jpg \"/></a>\n",
              " <div class=\"filmtitle\"><a href=\"/movie/faen71757678/\">阿凡達：火與灰燼</a></div>\n",
              " <div class=\"runtime\">上映日期：2025/12/18\n",
              " \t\t\t\t\t\t<br/>  </div>\n",
              " </li>,\n",
              " <li><a href=\"/movie/faen21357150/\"><img alt=\"復仇者聯盟5\" class=\"filmListAllXPoster\" src=\" http://www.atmovies.com.tw/photo101/faen21357150/pl_faen21357150_0001.jpg \"/></a>\n",
              " <div class=\"filmtitle\"><a href=\"/movie/faen21357150/\">復仇者聯盟5</a></div>\n",
              " <div class=\"runtime\">上映日期：2026/05/01\n",
              " \t\t\t\t\t\t<br/>  </div>\n",
              " </li>,\n",
              " <li><a href=\"/movie/ften29355505/\"><img alt=\"玩具總動員5\" class=\"filmListAllXPoster\" src=\" http://www.atmovies.com.tw/photo101/ften29355505/pl_ften29355505_0001.jpg \"/></a>\n",
              " <div class=\"filmtitle\"><a href=\"/movie/ften29355505/\">玩具總動員5</a></div>\n",
              " <div class=\"runtime\">上映日期：2026/06/19\n",
              " \t\t\t\t\t\t<br/>  </div>\n",
              " </li>]"
            ]
          },
          "metadata": {},
          "execution_count": 2
        }
      ]
    },
    {
      "cell_type": "code",
      "source": [
        "import os\n",
        "import csv\n",
        "\n",
        "if not os.path.exists('/content/movies'):\n",
        "  os.makedirs('/content/movies')\n",
        "movies = [ ['電影','上映日期'] ]\n",
        "\n",
        "for mv in soup.find('ul', class_='filmListAllX').find_all('li'):\n",
        "  title = mv.img['alt']\n",
        "  src = mv.img['src'].strip()\n",
        "  date = mv.find('div', class_='runtime').text\n",
        "  date = date[5:15]\n",
        "  movies.append([title, date])\n",
        "  print(title, date,src)\n",
        "  response = requests.get(src)\n",
        "  with open(f'/content/movies/{title}.jpg','wb') as f:\n",
        "    f.write(response.content)\n",
        "\n",
        "\n",
        "\n",
        "\n",
        "with open('/content/movies/movies.csv', mode='w', encoding='utf-8', newline='') as file:\n",
        "  csv_file = csv.writer(file)\n",
        "  csv_file.writerows(movies)\n",
        "\n"
      ],
      "metadata": {
        "id": "dO_FbldybUpM",
        "colab": {
          "base_uri": "https://localhost:8080/"
        },
        "outputId": "5edfe1f1-c573-4a15-bab4-6c8d99104835"
      },
      "execution_count": null,
      "outputs": [
        {
          "output_type": "stream",
          "name": "stdout",
          "text": [
            "28年毀滅倒數 2025/06/18 http://www.atmovies.com.tw/photo101/fyen10548174/pl_fyen10548174_0004.jpg\n",
            "F1電影 2025/06/25 http://www.atmovies.com.tw/photo101/ffen16311594/pl_ffen16311594_0007.jpg\n",
            "名偵探柯南：獨眼的殘像 2025/06/25 http://www.atmovies.com.tw/photo101/fdjp35891502/pl_fdjp35891502_0002.jpg\n",
            "窒友梅根 2.0 2025/06/27 http://www.atmovies.com.tw/photo101/fmen26342662/pl_fmen26342662_0002.jpg\n",
            "侏羅紀世界：重生 2025/07/02 http://www.atmovies.com.tw/photo101/fjen31036941/pl_fjen31036941_0002.jpg\n",
            "超人 2025/07/09 http://www.atmovies.com.tw/photo101/fsen45950044/pl_fsen45950044_0003.jpg\n",
            "電影哆啦A夢：大雄的繪畫世界物語 2025/07/18 http://www.atmovies.com.tw/photo101/fdjp33512868/pl_fdjp33512868_0002.jpg\n",
            "驚奇4超人：第一步 2025/07/23 http://www.atmovies.com.tw/photo101/ffen10676052/pl_ffen10676052_0007.jpg\n",
            "壞蛋聯盟2 2025/08/01 http://www.atmovies.com.tw/photo101/fben30017619/pl_fben30017619_0002.jpg\n",
            "劇場版「鬼滅之刃」無限城篇 2025/08/08 http://www.atmovies.com.tw/photo101/fdjp32820897/pl_fdjp32820897_0002.jpg\n",
            "天作之合 2025/08/29 http://www.atmovies.com.tw/photo101/fmen30253473/pl_fmen30253473_0001.jpg\n",
            "劇場版『鏈鋸人 蕾潔篇』 2025/09/24 http://www.atmovies.com.tw/photo101/fcjp30472557/pl_fcjp30472557_0001.jpg\n",
            "一戰再戰 2025/09/25 http://www.atmovies.com.tw/photo101/foen30144839/pl_foen30144839_0002.jpg\n",
            "出神入化3 2025/11/14 http://www.atmovies.com.tw/photo101/fnen54712810/pl_fnen54712810_0001.jpg\n",
            "動物方城市2 2025/11/26 http://www.atmovies.com.tw/photo101/fzen31187839/pl_fzen31187839_0002.jpg\n",
            "阿凡達：火與灰燼 2025/12/18 http://www.atmovies.com.tw/photo101/faen71757678/pl_faen71757678_0001.jpg\n",
            "復仇者聯盟5 2026/05/01 http://www.atmovies.com.tw/photo101/faen21357150/pl_faen21357150_0001.jpg\n",
            "玩具總動員5 2026/06/19 http://www.atmovies.com.tw/photo101/ften29355505/pl_ften29355505_0001.jpg\n"
          ]
        }
      ]
    }
  ]
}