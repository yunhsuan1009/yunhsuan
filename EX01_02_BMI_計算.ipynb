{
  "nbformat": 4,
  "nbformat_minor": 0,
  "metadata": {
    "colab": {
      "provenance": [],
      "authorship_tag": "ABX9TyPR66KNKr583RovCg2KQjnv",
      "include_colab_link": true
    },
    "kernelspec": {
      "name": "python3",
      "display_name": "Python 3"
    },
    "language_info": {
      "name": "python"
    }
  },
  "cells": [
    {
      "cell_type": "markdown",
      "metadata": {
        "id": "view-in-github",
        "colab_type": "text"
      },
      "source": [
        "<a href=\"https://colab.research.google.com/github/yunhsuan1009/yunhsuan/blob/main/EX01_02_BMI_%E8%A8%88%E7%AE%97.ipynb\" target=\"_parent\"><img src=\"https://colab.research.google.com/assets/colab-badge.svg\" alt=\"Open In Colab\"/></a>"
      ]
    },
    {
      "cell_type": "code",
      "execution_count": null,
      "metadata": {
        "id": "v-494LG80tDq"
      },
      "outputs": [],
      "source": []
    },
    {
      "cell_type": "markdown",
      "source": [
        "EX01-02 BMI 計算\n"
      ],
      "metadata": {
        "id": "QM2EsnZH0uop"
      }
    },
    {
      "cell_type": "code",
      "source": [
        "hight = float( input('height(cm);'))\n",
        "weight = float( input('weight(kg);'))\n",
        "bmi = weight / (hight/100)**2\n",
        "print('bmi;', round(bmi,1))\n"
      ],
      "metadata": {
        "colab": {
          "base_uri": "https://localhost:8080/"
        },
        "id": "ytAeCzIF0xfB",
        "outputId": "a1610ede-574b-428a-876e-b3122c4d4358"
      },
      "execution_count": 1,
      "outputs": [
        {
          "output_type": "stream",
          "name": "stdout",
          "text": [
            "height(cm);163\n",
            "weight(kg);47\n",
            "bmi; 17.7\n"
          ]
        }
      ]
    }
  ]
}