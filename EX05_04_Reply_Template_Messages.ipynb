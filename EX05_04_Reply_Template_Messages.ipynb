{
  "nbformat": 4,
  "nbformat_minor": 0,
  "metadata": {
    "colab": {
      "provenance": [],
      "authorship_tag": "ABX9TyPf5d/bbqMNwfQamtaQravr",
      "include_colab_link": true
    },
    "kernelspec": {
      "name": "python3",
      "display_name": "Python 3"
    },
    "language_info": {
      "name": "python"
    }
  },
  "cells": [
    {
      "cell_type": "markdown",
      "metadata": {
        "id": "view-in-github",
        "colab_type": "text"
      },
      "source": [
        "<a href=\"https://colab.research.google.com/github/yunhsuan1009/yunhsuan/blob/main/EX05_04_Reply_Template_Messages.ipynb\" target=\"_parent\"><img src=\"https://colab.research.google.com/assets/colab-badge.svg\" alt=\"Open In Colab\"/></a>"
      ]
    },
    {
      "cell_type": "code",
      "execution_count": 1,
      "metadata": {
        "colab": {
          "base_uri": "https://localhost:8080/"
        },
        "id": "Xa9T5VmhK8ZH",
        "outputId": "baa3579f-c377-4152-90d5-b417a2a27223"
      },
      "outputs": [
        {
          "output_type": "stream",
          "name": "stdout",
          "text": [
            "\u001b[2K   \u001b[90m━━━━━━━━━━━━━━━━━━━━━━━━━━━━━━━━━━━━━━━━\u001b[0m \u001b[32m776.1/776.1 kB\u001b[0m \u001b[31m9.3 MB/s\u001b[0m eta \u001b[36m0:00:00\u001b[0m\n",
            "\u001b[2K   \u001b[90m━━━━━━━━━━━━━━━━━━━━━━━━━━━━━━━━━━━━━━━━\u001b[0m \u001b[32m165.6/165.6 kB\u001b[0m \u001b[31m8.6 MB/s\u001b[0m eta \u001b[36m0:00:00\u001b[0m\n",
            "\u001b[?25h"
          ]
        }
      ],
      "source": [
        "!pip install -q pyngrok flask_ngrok\n",
        "!pip install -q flask line-bot-sdk\n"
      ]
    },
    {
      "cell_type": "code",
      "source": [
        "from google.colab import userdata\n",
        "from pyngrok import ngrok\n",
        "from flask_ngrok import run_with_ngrok\n",
        "def ngrok_start():\n",
        "  ngrok.set_auth_token(userdata.get('ngrok'))\n",
        "  ngrok.connect(5000)\n",
        "  run_with_ngrok(app)\n",
        "\n",
        "from flask import Flask, request, abort\n",
        "\n",
        "from linebot.v3 import (\n",
        "    WebhookHandler\n",
        ")\n",
        "from linebot.v3.exceptions import (\n",
        "    InvalidSignatureError\n",
        ")\n",
        "from linebot.v3.messaging import (\n",
        "    Configuration,\n",
        "    ApiClient,\n",
        "    MessagingApi,\n",
        "    ReplyMessageRequest,\n",
        "    TextMessage\n",
        ")\n",
        "from linebot.v3.webhooks import (\n",
        "    MessageEvent,\n",
        "    TextMessageContent\n",
        ")\n",
        "app = Flask(__name__)\n",
        "\n",
        "configuration = Configuration(access_token=userdata.get('Channel_access_token'))\n",
        "\n",
        "handler = WebhookHandler(userdata.get('secrettalk'))\n",
        "\n",
        "@app.route(\"/callback\", methods=['POST'])\n",
        "def callback():\n",
        "    # get X-Line-Signature header value\n",
        "    signature = request.headers['X-Line-Signature']\n",
        "\n",
        "    # get request body as text\n",
        "    body = request.get_data(as_text=True)\n",
        "\n",
        "\n",
        "    # handle webhook body\n",
        "    try:\n",
        "        handler.handle(body, signature)\n",
        "    except InvalidSignatureError:\n",
        "\n",
        "        abort(400)\n",
        "\n",
        "    return 'OK'\n",
        "\n",
        "@handler.add(MessageEvent, message=TextMessageContent)\n",
        "def handle_message(event):\n",
        "    with ApiClient(configuration) as api_client:\n",
        "        line_bot_api = MessagingApi(api_client)\n",
        "\n",
        "        action = event.message.text\n",
        "        if action == 'confirm':\n",
        "          reply = TemplateMessage(\n",
        "              alt_text='confirm template',\n",
        "              template=ConfirmTemplate(\n",
        "                  text='Are you sure?',\n",
        "                  actions=[\n",
        "                      MessageAction(label='Yes', text='是的'),\n",
        "                      MessageAction(label='No', text='不是的')\n",
        "                  ]\n",
        "              )\n",
        "          )\n",
        "        elif action == 'carousel':\n",
        "          carousel_template = Carousel_Template(\n",
        "              columns=[\n",
        "                  CarouselColumn(\n",
        "                      thumbnail_image_url='https://zh.wikipedia.org/zh-tw/%E5%8D%83%E5%B1%A4%E8%9B%8B%E7%B3%95#/media/File:Pound_layer_cake.jpg',\n",
        "                      title='Pound Cake',\n",
        "                      text='非常罪惡但非常好吃的蛋糕',\n",
        "                      actions=[\n",
        "                          URIAction(label='維基百科', uri='https://zh.wikipedia.org/zh-tw/%E5%8D%83%E5%B1%A4%E8%9B%8B%E7%B3%95'),\n",
        "                          MessageAction(label='投票', text='投千層蛋糕')\n",
        "                      ]\n",
        "                  ),\n",
        "                  CarouselColumn(\n",
        "                      thumbnail_image_url='https://zh.wikipedia.org/wiki/%E5%B7%B4%E6%96%AF%E5%85%8B%E4%B9%B3%E9%85%AA%E8%9B%8B%E7%B3%95#/media/File:%E3%82%B9%E3%83%9A%E3%82%A4%E3%83%B3%E3%81%AE%E5%8C%97%E9%83%A8%E3%81%AE%E7%94%BA%E3%82%B5%E3%83%B3%E3%82%BB%E3%83%90%E3%82%B9%E3%83%81%E3%83%A3%E3%83%B3%E3%81%AB%E3%81%82%E3%82%8B%E3%83%AC%E3%82%B9%E3%83%88%E3%83%A9%E3%83%B3La_Vi%C3%B1a%E3%81%AE%E3%83%81%E3%83%BC%E3%82%BA%E3%82%B1%E3%83%BC%E3%82%AD.jpg',\n",
        "                      title='巴斯克蛋糕',\n",
        "                      text='非常濃郁非常絲滑的蛋糕',\n",
        "                      actions=[\n",
        "                          URIAction(label='維基百科', uri='https://zh.wikipedia.org/wiki/%E5%B7%B4%E6%96%AF%E5%85%8B%E4%B9%B3%E9%85%AA%E8%9B%8B%E7%B3%95'),\n",
        "                          MessageAction(label='投票', text='投巴斯克蛋糕')\n",
        "                      ]\n",
        "                  )\n",
        "              ]\n",
        "          )\n",
        "          reply = TemplateMessage(\n",
        "              alt_text='this is a carousel template',\n",
        "              template=carousel_template\n",
        "          )\n",
        "        else:\n",
        "          reply = TextMessage(text='thanks')\n",
        "\n",
        "        line_bot_api.reply_message(\n",
        "            ReplyMessageRequest(\n",
        "                reply_token=event.reply_token,\n",
        "                messages=[reply]\n",
        "            )\n",
        "        )\n",
        "\n",
        "ngrok_start()\n",
        "\n",
        "if __name__ == \"__main__\":\n",
        "    app.run()\n",
        "\n",
        "\n",
        "\n"
      ],
      "metadata": {
        "colab": {
          "base_uri": "https://localhost:8080/"
        },
        "id": "RaJIO66yMEbi",
        "outputId": "bbd71983-85fc-426d-a38b-eda89ea990d7"
      },
      "execution_count": 2,
      "outputs": [
        {
          "output_type": "stream",
          "name": "stdout",
          "text": [
            " * Serving Flask app '__main__'\n",
            " * Debug mode: off\n"
          ]
        },
        {
          "output_type": "stream",
          "name": "stderr",
          "text": [
            "INFO:werkzeug:\u001b[31m\u001b[1mWARNING: This is a development server. Do not use it in a production deployment. Use a production WSGI server instead.\u001b[0m\n",
            " * Running on http://127.0.0.1:5000\n",
            "INFO:werkzeug:\u001b[33mPress CTRL+C to quit\u001b[0m\n"
          ]
        },
        {
          "output_type": "stream",
          "name": "stdout",
          "text": [
            " * Running on http://d54f-34-73-143-123.ngrok-free.app\n",
            " * Traffic stats available on http://127.0.0.1:4040\n"
          ]
        },
        {
          "output_type": "stream",
          "name": "stderr",
          "text": [
            "INFO:werkzeug:127.0.0.1 - - [16/Jun/2025 10:29:33] \"POST /callback HTTP/1.1\" 200 -\n",
            "INFO:werkzeug:127.0.0.1 - - [16/Jun/2025 10:29:55] \"POST /callback HTTP/1.1\" 200 -\n",
            "ERROR:__main__:Exception on /callback [POST]\n",
            "Traceback (most recent call last):\n",
            "  File \"/usr/local/lib/python3.11/dist-packages/flask/app.py\", line 1511, in wsgi_app\n",
            "    response = self.full_dispatch_request()\n",
            "               ^^^^^^^^^^^^^^^^^^^^^^^^^^^^\n",
            "  File \"/usr/local/lib/python3.11/dist-packages/flask/app.py\", line 919, in full_dispatch_request\n",
            "    rv = self.handle_user_exception(e)\n",
            "         ^^^^^^^^^^^^^^^^^^^^^^^^^^^^^\n",
            "  File \"/usr/local/lib/python3.11/dist-packages/flask/app.py\", line 917, in full_dispatch_request\n",
            "    rv = self.dispatch_request()\n",
            "         ^^^^^^^^^^^^^^^^^^^^^^^\n",
            "  File \"/usr/local/lib/python3.11/dist-packages/flask/app.py\", line 902, in dispatch_request\n",
            "    return self.ensure_sync(self.view_functions[rule.endpoint])(**view_args)  # type: ignore[no-any-return]\n",
            "           ^^^^^^^^^^^^^^^^^^^^^^^^^^^^^^^^^^^^^^^^^^^^^^^^^^^^^^^^^^^^^^^^^\n",
            "  File \"<ipython-input-2-2539500797>\", line 45, in callback\n",
            "    handler.handle(body, signature)\n",
            "  File \"/usr/local/lib/python3.11/dist-packages/linebot/v3/webhook.py\", line 227, in handle\n",
            "    self.__invoke_func(func, event, payload)\n",
            "  File \"/usr/local/lib/python3.11/dist-packages/linebot/v3/webhook.py\", line 239, in __invoke_func\n",
            "    func(event)\n",
            "  File \"<ipython-input-2-2539500797>\", line 59, in handle_message\n",
            "    reply = TemplateMessage(\n",
            "            ^^^^^^^^^^^^^^^\n",
            "NameError: name 'TemplateMessage' is not defined\n",
            "INFO:werkzeug:127.0.0.1 - - [16/Jun/2025 10:30:22] \"\u001b[35m\u001b[1mPOST /callback HTTP/1.1\u001b[0m\" 500 -\n",
            "ERROR:__main__:Exception on /callback [POST]\n",
            "Traceback (most recent call last):\n",
            "  File \"/usr/local/lib/python3.11/dist-packages/flask/app.py\", line 1511, in wsgi_app\n",
            "    response = self.full_dispatch_request()\n",
            "               ^^^^^^^^^^^^^^^^^^^^^^^^^^^^\n",
            "  File \"/usr/local/lib/python3.11/dist-packages/flask/app.py\", line 919, in full_dispatch_request\n",
            "    rv = self.handle_user_exception(e)\n",
            "         ^^^^^^^^^^^^^^^^^^^^^^^^^^^^^\n",
            "  File \"/usr/local/lib/python3.11/dist-packages/flask/app.py\", line 917, in full_dispatch_request\n",
            "    rv = self.dispatch_request()\n",
            "         ^^^^^^^^^^^^^^^^^^^^^^^\n",
            "  File \"/usr/local/lib/python3.11/dist-packages/flask/app.py\", line 902, in dispatch_request\n",
            "    return self.ensure_sync(self.view_functions[rule.endpoint])(**view_args)  # type: ignore[no-any-return]\n",
            "           ^^^^^^^^^^^^^^^^^^^^^^^^^^^^^^^^^^^^^^^^^^^^^^^^^^^^^^^^^^^^^^^^^\n",
            "  File \"<ipython-input-2-2539500797>\", line 45, in callback\n",
            "    handler.handle(body, signature)\n",
            "  File \"/usr/local/lib/python3.11/dist-packages/linebot/v3/webhook.py\", line 227, in handle\n",
            "    self.__invoke_func(func, event, payload)\n",
            "  File \"/usr/local/lib/python3.11/dist-packages/linebot/v3/webhook.py\", line 239, in __invoke_func\n",
            "    func(event)\n",
            "  File \"<ipython-input-2-2539500797>\", line 70, in handle_message\n",
            "    carousel_template = Carousel_Template(\n",
            "                        ^^^^^^^^^^^^^^^^^\n",
            "NameError: name 'Carousel_Template' is not defined\n",
            "INFO:werkzeug:127.0.0.1 - - [16/Jun/2025 10:30:53] \"\u001b[35m\u001b[1mPOST /callback HTTP/1.1\u001b[0m\" 500 -\n",
            "INFO:werkzeug:127.0.0.1 - - [16/Jun/2025 10:31:21] \"POST /callback HTTP/1.1\" 200 -\n",
            "ERROR:__main__:Exception on /callback [POST]\n",
            "Traceback (most recent call last):\n",
            "  File \"/usr/local/lib/python3.11/dist-packages/flask/app.py\", line 1511, in wsgi_app\n",
            "    response = self.full_dispatch_request()\n",
            "               ^^^^^^^^^^^^^^^^^^^^^^^^^^^^\n",
            "  File \"/usr/local/lib/python3.11/dist-packages/flask/app.py\", line 919, in full_dispatch_request\n",
            "    rv = self.handle_user_exception(e)\n",
            "         ^^^^^^^^^^^^^^^^^^^^^^^^^^^^^\n",
            "  File \"/usr/local/lib/python3.11/dist-packages/flask/app.py\", line 917, in full_dispatch_request\n",
            "    rv = self.dispatch_request()\n",
            "         ^^^^^^^^^^^^^^^^^^^^^^^\n",
            "  File \"/usr/local/lib/python3.11/dist-packages/flask/app.py\", line 902, in dispatch_request\n",
            "    return self.ensure_sync(self.view_functions[rule.endpoint])(**view_args)  # type: ignore[no-any-return]\n",
            "           ^^^^^^^^^^^^^^^^^^^^^^^^^^^^^^^^^^^^^^^^^^^^^^^^^^^^^^^^^^^^^^^^^\n",
            "  File \"<ipython-input-2-2539500797>\", line 45, in callback\n",
            "    handler.handle(body, signature)\n",
            "  File \"/usr/local/lib/python3.11/dist-packages/linebot/v3/webhook.py\", line 227, in handle\n",
            "    self.__invoke_func(func, event, payload)\n",
            "  File \"/usr/local/lib/python3.11/dist-packages/linebot/v3/webhook.py\", line 239, in __invoke_func\n",
            "    func(event)\n",
            "  File \"<ipython-input-2-2539500797>\", line 70, in handle_message\n",
            "    carousel_template = Carousel_Template(\n",
            "                        ^^^^^^^^^^^^^^^^^\n",
            "NameError: name 'Carousel_Template' is not defined\n",
            "INFO:werkzeug:127.0.0.1 - - [16/Jun/2025 10:31:35] \"\u001b[35m\u001b[1mPOST /callback HTTP/1.1\u001b[0m\" 500 -\n"
          ]
        }
      ]
    }
  ]
}