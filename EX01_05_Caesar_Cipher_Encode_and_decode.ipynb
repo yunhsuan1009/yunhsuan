{
  "nbformat": 4,
  "nbformat_minor": 0,
  "metadata": {
    "colab": {
      "provenance": [],
      "authorship_tag": "ABX9TyMGRlAFg45dH1vj6d8jPkR9",
      "include_colab_link": true
    },
    "kernelspec": {
      "name": "python3",
      "display_name": "Python 3"
    },
    "language_info": {
      "name": "python"
    }
  },
  "cells": [
    {
      "cell_type": "markdown",
      "metadata": {
        "id": "view-in-github",
        "colab_type": "text"
      },
      "source": [
        "<a href=\"https://colab.research.google.com/github/yunhsuan1009/yunhsuan/blob/main/EX01_05_Caesar_Cipher_Encode_and_decode.ipynb\" target=\"_parent\"><img src=\"https://colab.research.google.com/assets/colab-badge.svg\" alt=\"Open In Colab\"/></a>"
      ]
    },
    {
      "cell_type": "code",
      "execution_count": null,
      "metadata": {
        "id": "li3XETZ1DoIy"
      },
      "outputs": [],
      "source": []
    },
    {
      "cell_type": "markdown",
      "source": [
        "EX01-05 Caesar Cipher: Encode and decode\n"
      ],
      "metadata": {
        "id": "-KrYWd6_D-35"
      }
    },
    {
      "cell_type": "code",
      "source": [
        "act = input()\n",
        "txt = input()\n",
        "\n",
        "act_type = act[0]\n",
        "key = int(act[1:])\n",
        "newtxt = ''\n",
        "if act_type == 'd':\n",
        "  for c in txt:\n",
        "    newc = ord(c) - key\n",
        "    newtxt = newtxt + chr(newc)\n",
        "\n",
        "else:\n",
        "  for c in txt:\n",
        "    newc = ord(c) + key\n",
        "    newtxt = newtxt + chr(newc)\n",
        "\n",
        "print(newtxt)\n",
        "\n",
        "\n"
      ],
      "metadata": {
        "colab": {
          "base_uri": "https://localhost:8080/"
        },
        "id": "ZNog5J2UEAA2",
        "outputId": "77417700-8548-427d-8f36-677ccd680b40"
      },
      "execution_count": 3,
      "outputs": [
        {
          "output_type": "stream",
          "name": "stdout",
          "text": [
            "d4\n",
            "love u\n",
            "hkra\u001cq\n"
          ]
        }
      ]
    }
  ]
}